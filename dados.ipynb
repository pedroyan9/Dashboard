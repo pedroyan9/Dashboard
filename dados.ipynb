{
 "cells": [
  {
   "cell_type": "code",
   "execution_count": 1,
   "metadata": {},
   "outputs": [],
   "source": [
    "import pandas as pd"
   ]
  },
  {
   "cell_type": "code",
   "execution_count": 3,
   "metadata": {},
   "outputs": [],
   "source": [
    "df = pd.read_csv('hall.csv')"
   ]
  },
  {
   "cell_type": "code",
   "execution_count": 4,
   "metadata": {},
   "outputs": [
    {
     "data": {
      "text/html": [
       "<div>\n",
       "<style scoped>\n",
       "    .dataframe tbody tr th:only-of-type {\n",
       "        vertical-align: middle;\n",
       "    }\n",
       "\n",
       "    .dataframe tbody tr th {\n",
       "        vertical-align: top;\n",
       "    }\n",
       "\n",
       "    .dataframe thead th {\n",
       "        text-align: right;\n",
       "    }\n",
       "</style>\n",
       "<table border=\"1\" class=\"dataframe\">\n",
       "  <thead>\n",
       "    <tr style=\"text-align: right;\">\n",
       "      <th></th>\n",
       "      <th>Ano</th>\n",
       "      <th>Campeão</th>\n",
       "      <th>Vice</th>\n",
       "      <th>Semifinalistas</th>\n",
       "    </tr>\n",
       "  </thead>\n",
       "  <tbody>\n",
       "    <tr>\n",
       "      <th>0</th>\n",
       "      <td>1989</td>\n",
       "      <td>Grêmio</td>\n",
       "      <td>Sport</td>\n",
       "      <td>Flamengo e Goiás</td>\n",
       "    </tr>\n",
       "    <tr>\n",
       "      <th>1</th>\n",
       "      <td>1990</td>\n",
       "      <td>Flamengo</td>\n",
       "      <td>Goiás</td>\n",
       "      <td>Náutico e Criciúma</td>\n",
       "    </tr>\n",
       "    <tr>\n",
       "      <th>2</th>\n",
       "      <td>1991</td>\n",
       "      <td>Criciúma</td>\n",
       "      <td>Grêmio</td>\n",
       "      <td>Remo e Coritiba</td>\n",
       "    </tr>\n",
       "    <tr>\n",
       "      <th>3</th>\n",
       "      <td>1992</td>\n",
       "      <td>Inter</td>\n",
       "      <td>Fluminense</td>\n",
       "      <td>Palmeiras e Sport</td>\n",
       "    </tr>\n",
       "    <tr>\n",
       "      <th>4</th>\n",
       "      <td>1993</td>\n",
       "      <td>Cruzeiro</td>\n",
       "      <td>Grêmio</td>\n",
       "      <td>Vasco e Flamengo</td>\n",
       "    </tr>\n",
       "  </tbody>\n",
       "</table>\n",
       "</div>"
      ],
      "text/plain": [
       "    Ano   Campeão        Vice      Semifinalistas\n",
       "0  1989    Grêmio       Sport    Flamengo e Goiás\n",
       "1  1990  Flamengo       Goiás  Náutico e Criciúma\n",
       "2  1991  Criciúma      Grêmio     Remo e Coritiba\n",
       "3  1992     Inter  Fluminense   Palmeiras e Sport\n",
       "4  1993  Cruzeiro      Grêmio    Vasco e Flamengo"
      ]
     },
     "execution_count": 4,
     "metadata": {},
     "output_type": "execute_result"
    }
   ],
   "source": [
    "df.head()"
   ]
  },
  {
   "cell_type": "code",
   "execution_count": 5,
   "metadata": {},
   "outputs": [
    {
     "name": "stdout",
     "output_type": "stream",
     "text": [
      "<class 'pandas.core.frame.DataFrame'>\n",
      "RangeIndex: 35 entries, 0 to 34\n",
      "Data columns (total 4 columns):\n",
      " #   Column          Non-Null Count  Dtype \n",
      "---  ------          --------------  ----- \n",
      " 0   Ano             35 non-null     int64 \n",
      " 1   Campeão         35 non-null     object\n",
      " 2   Vice            35 non-null     object\n",
      " 3   Semifinalistas  35 non-null     object\n",
      "dtypes: int64(1), object(3)\n",
      "memory usage: 1.2+ KB\n"
     ]
    }
   ],
   "source": [
    "df.info()"
   ]
  },
  {
   "cell_type": "code",
   "execution_count": 6,
   "metadata": {},
   "outputs": [
    {
     "data": {
      "text/html": [
       "<div>\n",
       "<style scoped>\n",
       "    .dataframe tbody tr th:only-of-type {\n",
       "        vertical-align: middle;\n",
       "    }\n",
       "\n",
       "    .dataframe tbody tr th {\n",
       "        vertical-align: top;\n",
       "    }\n",
       "\n",
       "    .dataframe thead th {\n",
       "        text-align: right;\n",
       "    }\n",
       "</style>\n",
       "<table border=\"1\" class=\"dataframe\">\n",
       "  <thead>\n",
       "    <tr style=\"text-align: right;\">\n",
       "      <th></th>\n",
       "      <th>Ano</th>\n",
       "    </tr>\n",
       "  </thead>\n",
       "  <tbody>\n",
       "    <tr>\n",
       "      <th>count</th>\n",
       "      <td>35.000000</td>\n",
       "    </tr>\n",
       "    <tr>\n",
       "      <th>mean</th>\n",
       "      <td>2006.000000</td>\n",
       "    </tr>\n",
       "    <tr>\n",
       "      <th>std</th>\n",
       "      <td>10.246951</td>\n",
       "    </tr>\n",
       "    <tr>\n",
       "      <th>min</th>\n",
       "      <td>1989.000000</td>\n",
       "    </tr>\n",
       "    <tr>\n",
       "      <th>25%</th>\n",
       "      <td>1997.500000</td>\n",
       "    </tr>\n",
       "    <tr>\n",
       "      <th>50%</th>\n",
       "      <td>2006.000000</td>\n",
       "    </tr>\n",
       "    <tr>\n",
       "      <th>75%</th>\n",
       "      <td>2014.500000</td>\n",
       "    </tr>\n",
       "    <tr>\n",
       "      <th>max</th>\n",
       "      <td>2023.000000</td>\n",
       "    </tr>\n",
       "  </tbody>\n",
       "</table>\n",
       "</div>"
      ],
      "text/plain": [
       "               Ano\n",
       "count    35.000000\n",
       "mean   2006.000000\n",
       "std      10.246951\n",
       "min    1989.000000\n",
       "25%    1997.500000\n",
       "50%    2006.000000\n",
       "75%    2014.500000\n",
       "max    2023.000000"
      ]
     },
     "execution_count": 6,
     "metadata": {},
     "output_type": "execute_result"
    }
   ],
   "source": [
    "df.describe()"
   ]
  },
  {
   "cell_type": "code",
   "execution_count": 7,
   "metadata": {},
   "outputs": [
    {
     "data": {
      "text/plain": [
       "array(['Grêmio', 'Flamengo', 'Criciúma', 'Inter', 'Cruzeiro',\n",
       "       'Corinthians', 'Palmeiras', 'Juventude', 'Santo André', 'Paulista',\n",
       "       'Fluminense', 'Sport', 'Santos', 'Vasco', 'Atlético-MG',\n",
       "       'Athletico-PR', 'São Paulo'], dtype=object)"
      ]
     },
     "execution_count": 7,
     "metadata": {},
     "output_type": "execute_result"
    }
   ],
   "source": [
    "df['Campeão'].unique() #RETORNA O CADA VALOR DIFERENTE DE UMA COLUNA ESPECIFICA"
   ]
  },
  {
   "cell_type": "code",
   "execution_count": 32,
   "metadata": {},
   "outputs": [],
   "source": [
    "flamengo = df[df['Campeão'] == \"Grêmio\"] #FILTRANDO POR CAMPEAO IGUAL AO TIME"
   ]
  },
  {
   "cell_type": "code",
   "execution_count": 33,
   "metadata": {},
   "outputs": [
    {
     "data": {
      "text/plain": [
       "5"
      ]
     },
     "execution_count": 33,
     "metadata": {},
     "output_type": "execute_result"
    }
   ],
   "source": [
    "flamengo['Ano'].count()"
   ]
  },
  {
   "cell_type": "code",
   "execution_count": 14,
   "metadata": {},
   "outputs": [
    {
     "data": {
      "text/plain": [
       "0             Sport\n",
       "1             Goiás\n",
       "2            Grêmio\n",
       "3        Fluminense\n",
       "4            Grêmio\n",
       "5             Ceará\n",
       "6            Grêmio\n",
       "7         Palmeiras\n",
       "8          Flamengo\n",
       "9          Cruzeiro\n",
       "10         Botafogo\n",
       "11        São Paulo\n",
       "12      Corinthians\n",
       "13      Brasiliense\n",
       "14         Flamengo\n",
       "15         Flamengo\n",
       "16       Fluminense\n",
       "17            Vasco\n",
       "18      Figueirense\n",
       "19      Corinthians\n",
       "20            Inter\n",
       "21          Vitória\n",
       "22         Coritiba\n",
       "23         Coritiba\n",
       "24      Atlético-PR\n",
       "25         Cruzeiro\n",
       "26           Santos\n",
       "27      Atlético-MG\n",
       "28         Flamengo\n",
       "29      Corinthians\n",
       "30    Internacional\n",
       "31           Grêmio\n",
       "32     Athletico-PR\n",
       "33      Corinthians\n",
       "34         Flamengo\n",
       "Name: Vice, dtype: object"
      ]
     },
     "execution_count": 14,
     "metadata": {},
     "output_type": "execute_result"
    }
   ],
   "source": [
    "df['Vice']"
   ]
  },
  {
   "cell_type": "code",
   "execution_count": null,
   "metadata": {},
   "outputs": [],
   "source": [
    "df['Vice']"
   ]
  }
 ],
 "metadata": {
  "kernelspec": {
   "display_name": "base",
   "language": "python",
   "name": "python3"
  },
  "language_info": {
   "codemirror_mode": {
    "name": "ipython",
    "version": 3
   },
   "file_extension": ".py",
   "mimetype": "text/x-python",
   "name": "python",
   "nbconvert_exporter": "python",
   "pygments_lexer": "ipython3",
   "version": "3.11.5"
  }
 },
 "nbformat": 4,
 "nbformat_minor": 2
}
